{
  "nbformat": 4,
  "nbformat_minor": 0,
  "metadata": {
    "colab": {
      "provenance": [],
      "authorship_tag": "ABX9TyNBmkewHmsWEfws80xMZtkQ",
      "include_colab_link": true
    },
    "kernelspec": {
      "name": "python3",
      "display_name": "Python 3"
    },
    "language_info": {
      "name": "python"
    }
  },
  "cells": [
    {
      "cell_type": "markdown",
      "metadata": {
        "id": "view-in-github",
        "colab_type": "text"
      },
      "source": [
        "<a href=\"https://colab.research.google.com/github/alejo94gf/if-else-elif/blob/main/Untitled5.ipynb\" target=\"_parent\"><img src=\"https://colab.research.google.com/assets/colab-badge.svg\" alt=\"Open In Colab\"/></a>"
      ]
    },
    {
      "cell_type": "code",
      "execution_count": null,
      "metadata": {
        "id": "uDDWiU-gY_nA"
      },
      "outputs": [],
      "source": [
        "temperatura = int(input(\"Ingresa la temperatura: \"))\n",
        "\n",
        "if temperatura > 30:\n",
        "    print(\"Hace calor.\")\n",
        "elif temperatura < 10:\n",
        "    print(\"Hace frío.\")\n",
        "else:\n",
        "    print(\"El clima es agradable.\")\n"
      ]
    }
  ]
}